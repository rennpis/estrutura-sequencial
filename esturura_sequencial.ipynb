{
 "cells": [
  {
   "cell_type": "code",
   "execution_count": null,
   "metadata": {},
   "outputs": [],
   "source": [
    "#Faça um programa que converta metros para centímetros.\n",
    "metros = int(input('Insira o valor em metros: '))\n",
    "centimetros = metros * 100\n",
    "\n",
    "if metros == 1:\n",
    "    print(f'{metros} metro corresponde a {centimetros} centímetros.')\n",
    "else:\n",
    "    print(f'{metros} metros corresponde a {centimetros} centímetros.')"
   ]
  },
  {
   "cell_type": "code",
   "execution_count": null,
   "metadata": {},
   "outputs": [],
   "source": [
    "#Faça um Programa que peça o raio de um círculo, calcule e mostre sua área.\n",
    "import math\n",
    "\n",
    "raio = float(input('Insira o valor do raio: '))\n",
    "pi = math.pi\n",
    "area = pi * (raio ** 2)\n",
    "\n",
    "print(f'A área de do cículo é igual a {area:.2f}')"
   ]
  },
  {
   "cell_type": "code",
   "execution_count": null,
   "metadata": {},
   "outputs": [],
   "source": [
    "#Faça um Programa que pergunte quanto você ganha por hora e o número de horas trabalhadas no mês. Calcule e mostre o total do seu salário no referido mês.\n",
    "salario_hora = float(input('Insira o quando você ganha por hora: '))\n",
    "carga_horaria = float(input('Insira quantas horas você trabalha por mês: '))\n",
    "salario_mensal = salario_hora * carga_horaria\n",
    "\n",
    "print(f'O seu salário esse mês é igual a R${salario_mensal:.2f}.')"
   ]
  },
  {
   "cell_type": "code",
   "execution_count": null,
   "metadata": {},
   "outputs": [],
   "source": [
    "#Faça um Programa que peça a temperatura em graus Fahrenheit, transforme e mostre a temperatura em graus Celsius.\n",
    "fahrenheit = float(input('Insira o valor da temperatura em fahrenheit: '))\n",
    "celsius = (fahrenheit - 32) / 1.8\n",
    "\n",
    "print(f'A temperatura {fahrenheit:.2f}°F equivale a {celsius:.2f}°C')"
   ]
  },
  {
   "cell_type": "code",
   "execution_count": null,
   "metadata": {},
   "outputs": [],
   "source": [
    "#Faça um Programa que peça a temperatura em graus Fahrenheit, transforme e mostre a temperatura em graus Celsius.\n",
    "celsius = float(input('Insira o valor da temperatura em celsius: '))\n",
    "fahrenheit = celsius * 1.8 + 32\n",
    "\n",
    "print(f'A temperatura {celsius:.2f}°F equivale a {fahrenheit:.2f}°C')"
   ]
  },
  {
   "cell_type": "code",
   "execution_count": null,
   "metadata": {},
   "outputs": [],
   "source": [
    "'''Faça um Programa que peça 2 números inteiros e um número real. Calcule e mostre:\n",
    "1. o produto do dobro do primeiro com metade do segundo .\n",
    "2. a soma do triplo do primeiro com o terceiro.\n",
    "3. o terceiro elevado ao cubo.'''\n",
    "numero_inteiro_um = int(input('Insira um número inteiro: '))\n",
    "numero_inteiro_dois = int(input('Insira outro número inteiro: '))\n",
    "numero_real = float(input('Insira um número real: '))\n",
    "\n",
    "item_um = (numero_inteiro_um * 2) * (numero_inteiro_dois / 2)\n",
    "item_dois = (numero_inteiro_um * 3) + numero_real\n",
    "item_tres = numero_real ** 3\n",
    "\n",
    "print(f'O produto do dobro de {numero_inteiro_um} com a metade de {numero_inteiro_dois} é igual a {item_um:.0f}.')\n",
    "print(f'A soma do triplo de {numero_inteiro_um} mais {numero_real} é igual a {item_dois:.2f}.')\n",
    "print(f'O resultado de {numero_real} elevado ao cubo é igual a {item_tres:.2f}')"
   ]
  },
  {
   "cell_type": "code",
   "execution_count": null,
   "metadata": {},
   "outputs": [],
   "source": [
    "#Tendo como dados de entrada a altura de uma pessoa, construa um algoritmo que calcule seu peso ideal, usando a seguinte fórmula: (72.7*altura) - 58\n",
    "altura = float(input('Insira a sua altura: '))\n",
    "peso = float(input('Insira o seu peso: '))\n",
    "peso_ideal = (72.7 * altura) - 58\n",
    "\n",
    "print(f'O seu peso ideal é {peso_ideal:.2f}KG.')"
   ]
  },
  {
   "cell_type": "code",
   "execution_count": null,
   "metadata": {},
   "outputs": [],
   "source": [
    "'''Tendo como dado de entrada a altura (h) de uma pessoa, construa um algoritmo que\n",
    "calcule seu peso ideal, utilizando as seguintes fórmulas:\n",
    "1. Para homens: (72.7*h) - 58\n",
    "2. Para mulheres: (62.1*h) - 44.7'''\n",
    "altura = float(input('Insira a sua altura: '))\n",
    "peso = float(input('Insira o seu peso: '))\n",
    "genero = input('Digite \"homem\" para gênero masculino, ou \"mulher\" para o gênero feminino: ')\n",
    "peso_ideal_homem = (72.7 * altura) - 58\n",
    "peso_ideal_mulher = (62.1 * altura) - 44.7\n",
    "\n",
    "if genero == 'homem':\n",
    "    print(f'O seu peso ideal é {peso_ideal_homem:.2f}KG.')\n",
    "elif genero == 'mulher':\n",
    "    print(f'O seu peso ideal é {peso_ideal_mulher:.2f}KG.')"
   ]
  }
 ],
 "metadata": {
  "kernelspec": {
   "display_name": "Python 3",
   "language": "python",
   "name": "python3"
  },
  "language_info": {
   "codemirror_mode": {
    "name": "ipython",
    "version": 3
   },
   "file_extension": ".py",
   "mimetype": "text/x-python",
   "name": "python",
   "nbconvert_exporter": "python",
   "pygments_lexer": "ipython3",
   "version": "3.11.2"
  },
  "orig_nbformat": 4
 },
 "nbformat": 4,
 "nbformat_minor": 2
}
